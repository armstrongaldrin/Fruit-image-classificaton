{
  "nbformat": 4,
  "nbformat_minor": 0,
  "metadata": {
    "colab": {
      "provenance": []
    },
    "kernelspec": {
      "name": "python3",
      "display_name": "Python 3"
    },
    "language_info": {
      "name": "python"
    }
  },
  "cells": [
    {
      "cell_type": "markdown",
      "source": [
        "#importing dataset\n"
      ],
      "metadata": {
        "id": "jRx3uX6ygo3G"
      }
    },
    {
      "cell_type": "code",
      "execution_count": null,
      "metadata": {
        "id": "HccMSEnifL0y",
        "colab": {
          "base_uri": "https://localhost:8080/"
        },
        "outputId": "3dda1deb-082d-4dae-e43f-2faf962f70b3"
      },
      "outputs": [
        {
          "output_type": "stream",
          "name": "stdout",
          "text": [
            "Drive already mounted at /content/drive; to attempt to forcibly remount, call drive.mount(\"/content/drive\", force_remount=True).\n"
          ]
        }
      ],
      "source": [
        "from google.colab import drive\n",
        "drive.mount('/content/drive')"
      ]
    },
    {
      "cell_type": "markdown",
      "source": [
        "#lib\n"
      ],
      "metadata": {
        "id": "_2DGjiLE5bj5"
      }
    },
    {
      "cell_type": "code",
      "source": [
        "import numpy as np\n",
        "import tensorflow as tf\n",
        "import matplotlib. pyplot as plt"
      ],
      "metadata": {
        "id": "mHiV9Q0u5F2j"
      },
      "execution_count": null,
      "outputs": []
    },
    {
      "cell_type": "markdown",
      "source": [
        "#pre processing\n"
      ],
      "metadata": {
        "id": "ZF_0PaG_6L5v"
      }
    },
    {
      "cell_type": "markdown",
      "source": [
        "## training img preprocessing\n"
      ],
      "metadata": {
        "id": "pGW7HN9V6i0S"
      }
    },
    {
      "cell_type": "code",
      "source": [
        "training_set = tf.keras.utils.image_dataset_from_directory(\n",
        "    '/content/drive/MyDrive/ds/train',\n",
        "    labels=\"inferred\",\n",
        "    label_mode=\"categorical\",\n",
        "    class_names=None,\n",
        "    color_mode=\"rgb\",\n",
        "    batch_size=32,\n",
        "    image_size=(64, 64),\n",
        "    shuffle=True,\n",
        "    seed=None,\n",
        "    validation_split=None,\n",
        "    subset=None,\n",
        "    interpolation=\"bilinear\",\n",
        "    follow_links=False,\n",
        "    crop_to_aspect_ratio=False\n",
        ")"
      ],
      "metadata": {
        "colab": {
          "base_uri": "https://localhost:8080/"
        },
        "id": "R6vasyzx6Pp1",
        "outputId": "8832933d-f19f-48cd-d011-9978c1072d4f"
      },
      "execution_count": null,
      "outputs": [
        {
          "output_type": "stream",
          "name": "stdout",
          "text": [
            "Found 3116 files belonging to 36 classes.\n"
          ]
        }
      ]
    },
    {
      "cell_type": "markdown",
      "source": [
        "#Validation Image Preprocessing\n"
      ],
      "metadata": {
        "id": "wjucQiP3-m9x"
      }
    },
    {
      "cell_type": "code",
      "source": [
        "validation_set = tf.keras.utils.image_dataset_from_directory(\n",
        "    '/content/drive/MyDrive/ds/validation',\n",
        "    labels=\"inferred\",\n",
        "    label_mode=\"categorical\",\n",
        "    class_names=None,\n",
        "    color_mode=\"rgb\",\n",
        "    batch_size=32,\n",
        "    image_size=(64, 64),\n",
        "    shuffle=True,\n",
        "    seed=None,\n",
        "    validation_split=None,\n",
        "    subset=None,\n",
        "    interpolation=\"bilinear\",\n",
        "    follow_links=False,\n",
        "    crop_to_aspect_ratio=False\n",
        ")"
      ],
      "metadata": {
        "colab": {
          "base_uri": "https://localhost:8080/"
        },
        "id": "uda6IhoL-uiR",
        "outputId": "edc8a6ca-446e-400e-b527-0c927f09280d"
      },
      "execution_count": null,
      "outputs": [
        {
          "output_type": "stream",
          "name": "stdout",
          "text": [
            "Found 351 files belonging to 36 classes.\n"
          ]
        }
      ]
    },
    {
      "cell_type": "markdown",
      "source": [
        "#building model\n"
      ],
      "metadata": {
        "id": "qxonIDnVFRAv"
      }
    },
    {
      "cell_type": "code",
      "source": [
        "cnn = tf.keras.models.Sequential()"
      ],
      "metadata": {
        "id": "Nil6xvxEFWEE"
      },
      "execution_count": null,
      "outputs": []
    },
    {
      "cell_type": "markdown",
      "source": [
        "#building Convolution Layer"
      ],
      "metadata": {
        "id": "fQrHjglxGo5Y"
      }
    },
    {
      "cell_type": "code",
      "source": [
        "cnn.add(tf.keras.layers.Conv2D(filters=32,kernel_size=3,padding='same',activation='relu',input_shape=[64,64,3]))\n",
        "cnn.add(tf.keras.layers.Conv2D(filters=32,kernel_size=3,activation='relu'))\n",
        "cnn.add(tf.keras.layers.MaxPool2D(pool_size=2,strides=2))"
      ],
      "metadata": {
        "id": "ds2T7eEBGsMG"
      },
      "execution_count": null,
      "outputs": []
    },
    {
      "cell_type": "code",
      "source": [
        "cnn.add(tf.keras.layers.Conv2D(filters=64,kernel_size=3,padding='same',activation='relu'))\n",
        "cnn.add(tf.keras.layers.Conv2D(filters=64,kernel_size=3,activation='relu'))\n",
        "cnn.add(tf.keras.layers.MaxPool2D(pool_size=2,strides=2))"
      ],
      "metadata": {
        "id": "Fa077yJ0KcB2"
      },
      "execution_count": null,
      "outputs": []
    },
    {
      "cell_type": "code",
      "source": [
        "cnn.add(tf.keras.layers.Flatten())\n"
      ],
      "metadata": {
        "id": "Zf5uvvOQK1K3"
      },
      "execution_count": null,
      "outputs": []
    },
    {
      "cell_type": "code",
      "source": [
        "cnn.add(tf.keras.layers.Dense(units=512,activation='relu'))"
      ],
      "metadata": {
        "id": "ysHaRXRnuXb_"
      },
      "execution_count": null,
      "outputs": []
    },
    {
      "cell_type": "code",
      "source": [
        "cnn.add(tf.keras.layers.Dense(units=256,activation='relu'))"
      ],
      "metadata": {
        "id": "nh2uAExNLbHK"
      },
      "execution_count": null,
      "outputs": []
    },
    {
      "cell_type": "code",
      "source": [
        "cnn.add(tf.keras.layers.Dropout(0.5))"
      ],
      "metadata": {
        "id": "Qun2RxvAuiMP"
      },
      "execution_count": null,
      "outputs": []
    },
    {
      "cell_type": "code",
      "source": [
        "cnn.add(tf.keras.layers.Dense(units=36,activation='softmax')) #output layer"
      ],
      "metadata": {
        "id": "62dy_Tp-Lukq"
      },
      "execution_count": null,
      "outputs": []
    },
    {
      "cell_type": "markdown",
      "source": [
        "#compiling and training"
      ],
      "metadata": {
        "id": "TdMIwYKDMAfu"
      }
    },
    {
      "cell_type": "code",
      "source": [
        "cnn.compile(optimizer='adam',loss='categorical_crossentropy',metrics=['accuracy'])"
      ],
      "metadata": {
        "id": "Qqi7J2cPMGRQ"
      },
      "execution_count": null,
      "outputs": []
    },
    {
      "cell_type": "code",
      "source": [
        "cnn.summary()"
      ],
      "metadata": {
        "colab": {
          "base_uri": "https://localhost:8080/"
        },
        "id": "Lt6tlECItBYA",
        "outputId": "f637b49d-8f2a-4994-90dd-51ec5e5ce065"
      },
      "execution_count": null,
      "outputs": [
        {
          "output_type": "stream",
          "name": "stdout",
          "text": [
            "Model: \"sequential\"\n",
            "_________________________________________________________________\n",
            " Layer (type)                Output Shape              Param #   \n",
            "=================================================================\n",
            " conv2d (Conv2D)             (None, 64, 64, 32)        896       \n",
            "                                                                 \n",
            " conv2d_1 (Conv2D)           (None, 62, 62, 32)        9248      \n",
            "                                                                 \n",
            " max_pooling2d (MaxPooling2  (None, 31, 31, 32)        0         \n",
            " D)                                                              \n",
            "                                                                 \n",
            " conv2d_2 (Conv2D)           (None, 31, 31, 64)        18496     \n",
            "                                                                 \n",
            " conv2d_3 (Conv2D)           (None, 29, 29, 64)        36928     \n",
            "                                                                 \n",
            " max_pooling2d_1 (MaxPoolin  (None, 14, 14, 64)        0         \n",
            " g2D)                                                            \n",
            "                                                                 \n",
            " flatten (Flatten)           (None, 12544)             0         \n",
            "                                                                 \n",
            " dense (Dense)               (None, 512)               6423040   \n",
            "                                                                 \n",
            " dense_1 (Dense)             (None, 256)               131328    \n",
            "                                                                 \n",
            " dropout (Dropout)           (None, 256)               0         \n",
            "                                                                 \n",
            " dense_2 (Dense)             (None, 36)                9252      \n",
            "                                                                 \n",
            "=================================================================\n",
            "Total params: 6629188 (25.29 MB)\n",
            "Trainable params: 6629188 (25.29 MB)\n",
            "Non-trainable params: 0 (0.00 Byte)\n",
            "_________________________________________________________________\n"
          ]
        }
      ]
    },
    {
      "cell_type": "code",
      "source": [
        "training_history = cnn.fit(x=training_set,validation_data=validation_set,epochs=32)"
      ],
      "metadata": {
        "colab": {
          "base_uri": "https://localhost:8080/"
        },
        "id": "eRvnQW9AOCw1",
        "outputId": "55ef284b-774b-4c52-8e52-1fc90e0cd4b7"
      },
      "execution_count": null,
      "outputs": [
        {
          "output_type": "stream",
          "name": "stdout",
          "text": [
            "Epoch 1/32\n",
            "98/98 [==============================] - 585s 5s/step - loss: 6.0742 - accuracy: 0.0292 - val_loss: 3.5756 - val_accuracy: 0.0484\n",
            "Epoch 2/32\n",
            "98/98 [==============================] - 154s 1s/step - loss: 3.5730 - accuracy: 0.0369 - val_loss: 3.5451 - val_accuracy: 0.0513\n",
            "Epoch 3/32\n",
            "98/98 [==============================] - 153s 2s/step - loss: 3.5508 - accuracy: 0.0443 - val_loss: 3.4538 - val_accuracy: 0.0741\n",
            "Epoch 4/32\n",
            "98/98 [==============================] - 160s 2s/step - loss: 3.5404 - accuracy: 0.0494 - val_loss: 3.5615 - val_accuracy: 0.0627\n",
            "Epoch 5/32\n",
            "98/98 [==============================] - 146s 1s/step - loss: 3.4800 - accuracy: 0.0696 - val_loss: 3.4867 - val_accuracy: 0.0912\n",
            "Epoch 6/32\n",
            "98/98 [==============================] - 151s 1s/step - loss: 3.5503 - accuracy: 0.0488 - val_loss: 3.5279 - val_accuracy: 0.0484\n",
            "Epoch 7/32\n",
            "98/98 [==============================] - 155s 2s/step - loss: 3.4960 - accuracy: 0.0597 - val_loss: 3.4547 - val_accuracy: 0.0969\n",
            "Epoch 8/32\n",
            "98/98 [==============================] - 157s 2s/step - loss: 3.4068 - accuracy: 0.0866 - val_loss: 3.2156 - val_accuracy: 0.1709\n",
            "Epoch 9/32\n",
            "98/98 [==============================] - 149s 1s/step - loss: 3.2519 - accuracy: 0.1306 - val_loss: 3.0302 - val_accuracy: 0.2279\n",
            "Epoch 10/32\n",
            "98/98 [==============================] - 151s 1s/step - loss: 3.0414 - accuracy: 0.1874 - val_loss: 2.6434 - val_accuracy: 0.2735\n",
            "Epoch 11/32\n",
            "98/98 [==============================] - 155s 2s/step - loss: 2.8174 - accuracy: 0.2343 - val_loss: 2.5195 - val_accuracy: 0.3333\n",
            "Epoch 12/32\n",
            "98/98 [==============================] - 149s 1s/step - loss: 2.5750 - accuracy: 0.2936 - val_loss: 2.3098 - val_accuracy: 0.3932\n",
            "Epoch 13/32\n",
            "98/98 [==============================] - 149s 1s/step - loss: 2.3614 - accuracy: 0.3543 - val_loss: 2.3533 - val_accuracy: 0.4160\n",
            "Epoch 14/32\n",
            "98/98 [==============================] - 156s 2s/step - loss: 2.2262 - accuracy: 0.3954 - val_loss: 1.9299 - val_accuracy: 0.5242\n",
            "Epoch 15/32\n",
            "98/98 [==============================] - 149s 1s/step - loss: 2.0270 - accuracy: 0.4560 - val_loss: 2.2306 - val_accuracy: 0.4758\n",
            "Epoch 16/32\n",
            "98/98 [==============================] - 151s 1s/step - loss: 1.8813 - accuracy: 0.4904 - val_loss: 1.9354 - val_accuracy: 0.5499\n",
            "Epoch 17/32\n",
            "98/98 [==============================] - 159s 2s/step - loss: 1.7244 - accuracy: 0.5279 - val_loss: 1.6876 - val_accuracy: 0.6097\n",
            "Epoch 18/32\n",
            "98/98 [==============================] - 157s 2s/step - loss: 1.6224 - accuracy: 0.5546 - val_loss: 1.6831 - val_accuracy: 0.6125\n",
            "Epoch 19/32\n",
            "98/98 [==============================] - 150s 1s/step - loss: 1.4844 - accuracy: 0.6037 - val_loss: 1.5309 - val_accuracy: 0.6439\n",
            "Epoch 20/32\n",
            "98/98 [==============================] - 155s 2s/step - loss: 1.3757 - accuracy: 0.6220 - val_loss: 1.4067 - val_accuracy: 0.6980\n",
            "Epoch 21/32\n",
            "98/98 [==============================] - 148s 1s/step - loss: 1.3415 - accuracy: 0.6515 - val_loss: 1.2788 - val_accuracy: 0.7265\n",
            "Epoch 22/32\n",
            "98/98 [==============================] - 156s 2s/step - loss: 1.2998 - accuracy: 0.6505 - val_loss: 1.2936 - val_accuracy: 0.7179\n",
            "Epoch 23/32\n",
            "98/98 [==============================] - 149s 1s/step - loss: 1.1276 - accuracy: 0.6987 - val_loss: 1.3291 - val_accuracy: 0.6923\n",
            "Epoch 24/32\n",
            "98/98 [==============================] - 148s 1s/step - loss: 1.0771 - accuracy: 0.7054 - val_loss: 1.1655 - val_accuracy: 0.7436\n",
            "Epoch 25/32\n",
            "98/98 [==============================] - 154s 1s/step - loss: 1.0205 - accuracy: 0.7285 - val_loss: 1.1276 - val_accuracy: 0.7835\n",
            "Epoch 26/32\n",
            "98/98 [==============================] - 150s 1s/step - loss: 0.9611 - accuracy: 0.7490 - val_loss: 0.8141 - val_accuracy: 0.8291\n",
            "Epoch 27/32\n",
            "98/98 [==============================] - 148s 1s/step - loss: 0.7970 - accuracy: 0.7792 - val_loss: 0.8101 - val_accuracy: 0.8632\n",
            "Epoch 28/32\n",
            "98/98 [==============================] - 149s 1s/step - loss: 0.7654 - accuracy: 0.8026 - val_loss: 0.8336 - val_accuracy: 0.8291\n",
            "Epoch 29/32\n",
            "98/98 [==============================] - 157s 2s/step - loss: 0.6406 - accuracy: 0.8312 - val_loss: 0.7795 - val_accuracy: 0.8575\n",
            "Epoch 30/32\n",
            "98/98 [==============================] - 149s 1s/step - loss: 0.5692 - accuracy: 0.8440 - val_loss: 0.7146 - val_accuracy: 0.8718\n",
            "Epoch 31/32\n",
            "98/98 [==============================] - 148s 1s/step - loss: 0.5253 - accuracy: 0.8639 - val_loss: 0.7951 - val_accuracy: 0.8832\n",
            "Epoch 32/32\n",
            "98/98 [==============================] - 149s 1s/step - loss: 0.5123 - accuracy: 0.8646 - val_loss: 0.9853 - val_accuracy: 0.8405\n"
          ]
        }
      ]
    },
    {
      "cell_type": "markdown",
      "source": [
        "#saving"
      ],
      "metadata": {
        "id": "IJW6ETS0f8uH"
      }
    },
    {
      "cell_type": "code",
      "source": [
        "cnn.save('trained_model.h5')"
      ],
      "metadata": {
        "id": "ZEQEIJK7f4xJ"
      },
      "execution_count": null,
      "outputs": []
    },
    {
      "cell_type": "code",
      "source": [
        "training_history.history"
      ],
      "metadata": {
        "colab": {
          "base_uri": "https://localhost:8080/"
        },
        "id": "d6ZRBPscgN6W",
        "outputId": "92da55cd-dc80-4a94-b58c-437c835564bd"
      },
      "execution_count": null,
      "outputs": [
        {
          "output_type": "execute_result",
          "data": {
            "text/plain": [
              "{'loss': [5.427034378051758,\n",
              "  3.563258647918701,\n",
              "  3.5090019702911377,\n",
              "  3.3037641048431396,\n",
              "  3.147965908050537,\n",
              "  2.782043218612671,\n",
              "  2.315600633621216,\n",
              "  1.7625439167022705,\n",
              "  1.4041550159454346,\n",
              "  1.033496618270874,\n",
              "  0.8905985355377197,\n",
              "  0.6948541402816772,\n",
              "  0.6077867746353149,\n",
              "  0.4783601462841034,\n",
              "  0.36144670844078064,\n",
              "  0.32253167033195496,\n",
              "  0.3197001814842224,\n",
              "  0.2322000116109848,\n",
              "  0.21633437275886536,\n",
              "  0.21618491411209106,\n",
              "  0.23204009234905243,\n",
              "  0.15151914954185486,\n",
              "  0.12263990938663483,\n",
              "  0.10050787776708603,\n",
              "  0.15645399689674377,\n",
              "  0.1275855451822281,\n",
              "  0.1276291459798813,\n",
              "  0.22016482055187225,\n",
              "  0.13327983021736145,\n",
              "  0.13743291795253754,\n",
              "  0.10507581382989883,\n",
              "  0.12746325135231018],\n",
              " 'accuracy': [0.039152760058641434,\n",
              "  0.03947368264198303,\n",
              "  0.05455712601542473,\n",
              "  0.09595635533332825,\n",
              "  0.13799743354320526,\n",
              "  0.22496791183948517,\n",
              "  0.33311939239501953,\n",
              "  0.4897304177284241,\n",
              "  0.5921052694320679,\n",
              "  0.69608473777771,\n",
              "  0.7551347613334656,\n",
              "  0.8090500831604004,\n",
              "  0.837291419506073,\n",
              "  0.8847882151603699,\n",
              "  0.9008343815803528,\n",
              "  0.9152759909629822,\n",
              "  0.9175224900245667,\n",
              "  0.9419127106666565,\n",
              "  0.9387034773826599,\n",
              "  0.9444801211357117,\n",
              "  0.9435173273086548,\n",
              "  0.9595635533332825,\n",
              "  0.9724004864692688,\n",
              "  0.9765725135803223,\n",
              "  0.962772786617279,\n",
              "  0.9685494303703308,\n",
              "  0.9685494303703308,\n",
              "  0.9470474720001221,\n",
              "  0.9663029313087463,\n",
              "  0.9691912531852722,\n",
              "  0.9679075479507446,\n",
              "  0.9666239023208618],\n",
              " 'val_loss': [3.5767199993133545,\n",
              "  3.561188220977783,\n",
              "  3.2992923259735107,\n",
              "  2.9002699851989746,\n",
              "  2.6444592475891113,\n",
              "  1.909142255783081,\n",
              "  1.5141119956970215,\n",
              "  1.0499310493469238,\n",
              "  0.8290235996246338,\n",
              "  0.6547945141792297,\n",
              "  0.6664239764213562,\n",
              "  0.6544138193130493,\n",
              "  0.5807732343673706,\n",
              "  0.37764397263526917,\n",
              "  0.40010252594947815,\n",
              "  0.4875229597091675,\n",
              "  0.35464316606521606,\n",
              "  0.34720414876937866,\n",
              "  0.4095391035079956,\n",
              "  0.4613417387008667,\n",
              "  0.34357210993766785,\n",
              "  0.43503308296203613,\n",
              "  0.3392128050327301,\n",
              "  0.5613753795623779,\n",
              "  0.4325784146785736,\n",
              "  0.4420942962169647,\n",
              "  0.33400070667266846,\n",
              "  0.3566426634788513,\n",
              "  0.41993391513824463,\n",
              "  0.3971015214920044,\n",
              "  0.45831847190856934,\n",
              "  0.3674617111682892],\n",
              " 'val_accuracy': [0.07692307978868484,\n",
              "  0.07122506946325302,\n",
              "  0.1538461595773697,\n",
              "  0.27635326981544495,\n",
              "  0.36467236280441284,\n",
              "  0.5242165327072144,\n",
              "  0.6239316463470459,\n",
              "  0.7663817405700684,\n",
              "  0.811965823173523,\n",
              "  0.8404558300971985,\n",
              "  0.8860399127006531,\n",
              "  0.8945869207382202,\n",
              "  0.8917378783226013,\n",
              "  0.9316239356994629,\n",
              "  0.9373219609260559,\n",
              "  0.9287749528884888,\n",
              "  0.94017094373703,\n",
              "  0.9487179517745972,\n",
              "  0.9515669345855713,\n",
              "  0.945868968963623,\n",
              "  0.9601139426231384,\n",
              "  0.9572649598121643,\n",
              "  0.9487179517745972,\n",
              "  0.9259259104728699,\n",
              "  0.9544159770011902,\n",
              "  0.9572649598121643,\n",
              "  0.9601139426231384,\n",
              "  0.9544159770011902,\n",
              "  0.9515669345855713,\n",
              "  0.945868968963623,\n",
              "  0.9629629850387573,\n",
              "  0.9572649598121643]}"
            ]
          },
          "metadata": {},
          "execution_count": 21
        }
      ]
    },
    {
      "cell_type": "code",
      "source": [
        "import json\n",
        "with open('training_hist.json','w') as f:\n",
        "  json.dump(training_history.history,f)\n"
      ],
      "metadata": {
        "id": "GRltbuzIgkpu"
      },
      "execution_count": null,
      "outputs": []
    },
    {
      "cell_type": "code",
      "source": [
        "print (training_history.history.keys())"
      ],
      "metadata": {
        "colab": {
          "base_uri": "https://localhost:8080/"
        },
        "id": "LB-xnEclgutv",
        "outputId": "ebd2c56a-8c26-4568-f014-f717b1aa8b75"
      },
      "execution_count": null,
      "outputs": [
        {
          "output_type": "stream",
          "name": "stdout",
          "text": [
            "dict_keys(['loss', 'accuracy', 'val_loss', 'val_accuracy'])\n"
          ]
        }
      ]
    },
    {
      "cell_type": "markdown",
      "source": [
        " #Accuracy of Model Achieved on Validation set through percentage"
      ],
      "metadata": {
        "id": "HBkx7h-8h9pZ"
      }
    },
    {
      "cell_type": "code",
      "source": [
        "print(\"Validation set Accuracy: {} %\".format(training_history.history['val_accuracy'][-1]*100))\n"
      ],
      "metadata": {
        "colab": {
          "base_uri": "https://localhost:8080/"
        },
        "id": "PG4nALwihE7s",
        "outputId": "8ba46b12-fdd9-4bab-dc0c-39456fa0893a"
      },
      "execution_count": null,
      "outputs": [
        {
          "output_type": "stream",
          "name": "stdout",
          "text": [
            "Validation set Accuracy: 95.72649598121643 %\n"
          ]
        }
      ]
    },
    {
      "cell_type": "markdown",
      "source": [
        "#visual"
      ],
      "metadata": {
        "id": "wHwR81_diPjN"
      }
    },
    {
      "cell_type": "code",
      "source": [
        "\n",
        "epochs = [i for i in range(1,33)]\n",
        "plt.plot(epochs,training_history.history['accuracy'],color='red')\n",
        "plt.xlabel('No. of Epochs')\n",
        "plt.ylabel('Traiining Accuracy')\n",
        "plt.title('Visualization of Training Accuracy Result')\n",
        "plt.show()"
      ],
      "metadata": {
        "colab": {
          "base_uri": "https://localhost:8080/",
          "height": 472
        },
        "id": "LYGcUfZwiGHz",
        "outputId": "9b9b1d97-087c-46f8-baba-a920b868c50c"
      },
      "execution_count": null,
      "outputs": [
        {
          "output_type": "display_data",
          "data": {
            "text/plain": [
              "<Figure size 640x480 with 1 Axes>"
            ],
            "image/png": "[encoded data removed]"
          },
          "metadata": {}
        }
      ]
    },
    {
      "cell_type": "code",
      "source": [
        "#val accuracy"
      ],
      "metadata": {
        "id": "3TNQjfaEjott"
      },
      "execution_count": null,
      "outputs": []
    },
    {
      "cell_type": "code",
      "source": [
        "  plt.plot(epochs,training_history.history['val_accuracy'],color='blue')\n",
        "plt.xlabel('No. of Epochs')\n",
        "plt.ylabel('Validation Accuracy')\n",
        "plt.title('Visualization of Validation Accuracy Result')\n",
        "plt.show()\n"
      ],
      "metadata": {
        "colab": {
          "base_uri": "https://localhost:8080/",
          "height": 472
        },
        "id": "CFO1qU3pkLYu",
        "outputId": "8c9529b5-28f3-466e-f9fc-441b307f465f"
      },
      "execution_count": null,
      "outputs": [
        {
          "output_type": "display_data",
          "data": {
            "text/plain": [
              "<Figure size 640x480 with 1 Axes>"
            ],
            "image/png": "[encoded data removed]"
          },
          "metadata": {}
        }
      ]
    }
  ]
}